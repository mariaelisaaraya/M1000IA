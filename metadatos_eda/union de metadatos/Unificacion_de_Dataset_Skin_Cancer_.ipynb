{
  "nbformat": 4,
  "nbformat_minor": 0,
  "metadata": {
    "colab": {
      "provenance": []
    },
    "kernelspec": {
      "name": "python3",
      "display_name": "Python 3"
    },
    "language_info": {
      "name": "python"
    }
  },
  "cells": [
    {
      "cell_type": "markdown",
      "source": [
        "# Unificación de los datasets Skin Cancer(Original y PAD-UFES-20)"
      ],
      "metadata": {
        "id": "hhUEtUcxVvgC"
      }
    },
    {
      "cell_type": "code",
      "execution_count": 1,
      "metadata": {
        "id": "sZIFLuid-6Jw"
      },
      "outputs": [],
      "source": [
        "import pandas as pd\n",
        "import seaborn as sns\n",
        "import matplotlib.pyplot as plt\n"
      ]
    },
    {
      "cell_type": "markdown",
      "source": [
        "Carga de datasets"
      ],
      "metadata": {
        "id": "lXL8YaEcWIHG"
      }
    },
    {
      "cell_type": "code",
      "execution_count": 2,
      "metadata": {
        "colab": {
          "base_uri": "https://localhost:8080/"
        },
        "id": "QgLl9wAvVbqv",
        "outputId": "bdd7c932-8717-450d-8b33-85a0cf67dce9"
      },
      "outputs": [
        {
          "output_type": "stream",
          "name": "stdout",
          "text": [
            "     lesion_id      image_id   dx   age   sex localization   Clasificacion  \\\n",
            "0  HAM_0000118  ISIC_0027419  bkl  80.0  male        scalp  Lesión Benigna   \n",
            "1  HAM_0000118  ISIC_0025030  bkl  80.0  male        scalp  Lesión Benigna   \n",
            "2  HAM_0002730  ISIC_0026769  bkl  80.0  male        scalp  Lesión Benigna   \n",
            "3  HAM_0002730  ISIC_0025661  bkl  80.0  male        scalp  Lesión Benigna   \n",
            "4  HAM_0001466  ISIC_0031633  bkl  75.0  male          ear  Lesión Benigna   \n",
            "\n",
            "    Dataset  \n",
            "0  Original  \n",
            "1  Original  \n",
            "2  Original  \n",
            "3  Original  \n",
            "4  Original  \n",
            "(5077, 8)\n"
          ]
        }
      ],
      "source": [
        "# URL del dataset original en GitHub\n",
        "url = 'https://raw.githubusercontent.com/mariaelisaaraya/M1000IA/refs/heads/master/metadatos%20filtrados/filtrado_HAM10000_metadata.csv'\n",
        "\n",
        "\n",
        "\n",
        "\n",
        "# Leer el archivo CSV desde la URL\n",
        "df_original = pd.read_csv(url)\n",
        "\n",
        "# Primeras filas del dataset\n",
        "\n",
        "print(df_original.head())\n",
        "print(df_original.shape)"
      ]
    },
    {
      "cell_type": "code",
      "source": [
        "# URL del dataset original en GitHub\n",
        "url ='https://raw.githubusercontent.com/mariaelisaaraya/M1000IA/refs/heads/master/metadatos%20filtrados/filtradoPAD-UFES-20.csv'\n",
        "\n",
        "# Leer el archivo CSV desde la URL\n",
        "df_Agregado = pd.read_csv(url)\n",
        "\n",
        "# Primeras filas del dataset\n",
        "\n",
        "print(df_Agregado)\n",
        "print(df_Agregado.shape)"
      ],
      "metadata": {
        "colab": {
          "base_uri": "https://localhost:8080/"
        },
        "id": "hoRHOVGZWQKJ",
        "outputId": "97349830-f6bf-4a64-a9ec-14b3065b8e90"
      },
      "execution_count": 3,
      "outputs": [
        {
          "output_type": "stream",
          "name": "stdout",
          "text": [
            "     lesion_id              image_id   dx  age     sex localization  \\\n",
            "0          881    PAT_46_881_939.png  BCC   55  FEMALE         NECK   \n",
            "1         1302  PAT_684_1302_588.png  BCC   79    MALE      FOREARM   \n",
            "2         1471  PAT_778_1471_835.png  BCC   52  FEMALE         FACE   \n",
            "3          179   PAT_117_179_983.png  BCC   74  FEMALE         FACE   \n",
            "4         1827  PAT_967_1827_247.png  BCC   34  FEMALE         NOSE   \n",
            "..         ...                   ...  ...  ...     ...          ...   \n",
            "938        203   PAT_136_203_436.png  BCC   60  FEMALE         NOSE   \n",
            "939       1429  PAT_754_1429_380.png  MEL   75    MALE      FOREARM   \n",
            "940        421   PAT_273_421_905.png  BCC   41    MALE         FACE   \n",
            "941        880    PAT_46_880_140.png  BCC   55  FEMALE        CHEST   \n",
            "942        690   PAT_326_690_823.png  BCC   58  FEMALE         FACE   \n",
            "\n",
            "      Clasificacion Dataset  \n",
            "0    Lesión Maligna   Extra  \n",
            "1    Lesión Maligna   Extra  \n",
            "2    Lesión Maligna   Extra  \n",
            "3    Lesión Maligna   Extra  \n",
            "4    Lesión Maligna   Extra  \n",
            "..              ...     ...  \n",
            "938  Lesión Maligna   Extra  \n",
            "939  Lesión Maligna   Extra  \n",
            "940  Lesión Maligna   Extra  \n",
            "941  Lesión Maligna   Extra  \n",
            "942  Lesión Maligna   Extra  \n",
            "\n",
            "[943 rows x 8 columns]\n",
            "(943, 8)\n"
          ]
        }
      ]
    },
    {
      "cell_type": "markdown",
      "source": [
        "# Unificar valor de la variable dx (la que tiene las etiquetas) de  ambos datasets a mayúsculas\n",
        "cambiamos las etiquetas del dataset agregado"
      ],
      "metadata": {
        "id": "GfCHzS6lXekt"
      }
    },
    {
      "cell_type": "code",
      "source": [
        "# Transformar los valores de la columna 'dx' a mayúsculas\n",
        "df_original['dx'] = df_original['dx'].str.upper()\n",
        "\n",
        "# Mostrar el DataFrame resultante\n",
        "print(df_original)\n",
        "df_original.shape"
      ],
      "metadata": {
        "colab": {
          "base_uri": "https://localhost:8080/"
        },
        "id": "vw-ICt-HXkxs",
        "outputId": "8d39b2fc-a120-4228-c386-cf65dde2ec80"
      },
      "execution_count": 4,
      "outputs": [
        {
          "output_type": "stream",
          "name": "stdout",
          "text": [
            "        lesion_id      image_id   dx   age     sex     localization  \\\n",
            "0     HAM_0000118  ISIC_0027419  BKL  80.0    male            scalp   \n",
            "1     HAM_0000118  ISIC_0025030  BKL  80.0    male            scalp   \n",
            "2     HAM_0002730  ISIC_0026769  BKL  80.0    male            scalp   \n",
            "3     HAM_0002730  ISIC_0025661  BKL  80.0    male            scalp   \n",
            "4     HAM_0001466  ISIC_0031633  BKL  75.0    male              ear   \n",
            "...           ...           ...  ...   ...     ...              ...   \n",
            "5072  HAM_0004857  ISIC_0029038   NV  70.0    male  lower extremity   \n",
            "5073  HAM_0003384  ISIC_0031299   NV  55.0  female            chest   \n",
            "5074  HAM_0001410  ISIC_0024830   NV  15.0  female            chest   \n",
            "5075  HAM_0000102  ISIC_0032221   NV  20.0    male             back   \n",
            "5076  HAM_0003521  ISIC_0032258  MEL  70.0  female             back   \n",
            "\n",
            "       Clasificacion   Dataset  \n",
            "0     Lesión Benigna  Original  \n",
            "1     Lesión Benigna  Original  \n",
            "2     Lesión Benigna  Original  \n",
            "3     Lesión Benigna  Original  \n",
            "4     Lesión Benigna  Original  \n",
            "...              ...       ...  \n",
            "5072  Lesión Benigna  Original  \n",
            "5073  Lesión Benigna  Original  \n",
            "5074  Lesión Benigna  Original  \n",
            "5075  Lesión Benigna  Original  \n",
            "5076  Lesión Maligna  Original  \n",
            "\n",
            "[5077 rows x 8 columns]\n"
          ]
        },
        {
          "output_type": "execute_result",
          "data": {
            "text/plain": [
              "(5077, 8)"
            ]
          },
          "metadata": {},
          "execution_count": 4
        }
      ]
    },
    {
      "cell_type": "markdown",
      "source": [
        "### Cambiar los valores de la variable image_id del dataset original para que tenga ademas del nombre del archivo de la la imagen la extensión del mismo"
      ],
      "metadata": {
        "id": "AlrYUDyJY50E"
      }
    },
    {
      "cell_type": "code",
      "source": [
        "# Agregar la extensión .jpg a los valores de la columna 'image_id'\n",
        "df_original['image_id'] = df_original['image_id'] + '.jpg'"
      ],
      "metadata": {
        "id": "0VkFeFjpZNUj"
      },
      "execution_count": 5,
      "outputs": []
    },
    {
      "cell_type": "markdown",
      "source": [
        "# Unir los dos datasets en uno solo"
      ],
      "metadata": {
        "id": "KhQ-OeY8YDi8"
      }
    },
    {
      "cell_type": "code",
      "source": [
        "# Unir los DataFrames verticalmente\n",
        "df_Unido = pd.concat([df_original, df_Agregado], ignore_index=True)\n",
        "df_Unido.shape"
      ],
      "metadata": {
        "colab": {
          "base_uri": "https://localhost:8080/"
        },
        "id": "9-zS-lsPYGaz",
        "outputId": "5b6f6bed-5c7d-447e-c2a5-6ea2d25e3629"
      },
      "execution_count": 6,
      "outputs": [
        {
          "output_type": "execute_result",
          "data": {
            "text/plain": [
              "(6020, 8)"
            ]
          },
          "metadata": {},
          "execution_count": 6
        }
      ]
    },
    {
      "cell_type": "markdown",
      "source": [
        "# Verifica nulos"
      ],
      "metadata": {
        "id": "8DboIJ-NGsjt"
      }
    },
    {
      "cell_type": "code",
      "source": [
        "# ver cantidad de valores nulos\n",
        "nulos_por_columna = df_Unido.isnull().sum()\n",
        "print(\"Cantidad de valores nulos por columna\")\n",
        "print(nulos_por_columna)\n",
        "\n",
        "#ver cantidad de filas duplicadas\n",
        "duplicados = df_Unido.duplicated().sum()\n",
        "print(f\"Cantidad de filas duplicadas: {duplicados}\")"
      ],
      "metadata": {
        "colab": {
          "base_uri": "https://localhost:8080/"
        },
        "id": "R5xevcNiGuu2",
        "outputId": "fec86f86-2b6f-40cc-f4e4-17fa7576fc54"
      },
      "execution_count": 7,
      "outputs": [
        {
          "output_type": "stream",
          "name": "stdout",
          "text": [
            "Cantidad de valores nulos por columna\n",
            "lesion_id        0\n",
            "image_id         0\n",
            "dx               0\n",
            "age              0\n",
            "sex              0\n",
            "localization     0\n",
            "Clasificacion    0\n",
            "Dataset          0\n",
            "dtype: int64\n",
            "Cantidad de filas duplicadas: 0\n"
          ]
        }
      ]
    },
    {
      "cell_type": "markdown",
      "source": [
        "### ver opciones  de clasificación\n",
        "\n",
        "\n",
        "1.  4 etiquetas (bcc, mel, nev, sek+bkl\n",
        "2.  2 etiquetas maligno (bcc+mel) y maligno (nv, sex+bkl)\n",
        "=\n"
      ],
      "metadata": {
        "id": "iIkTA981h0Yh"
      }
    },
    {
      "cell_type": "markdown",
      "source": [
        "### 1- Vamos a cambiar las etiquetas BKL y SEK por BKL-SEK\n",
        "### 2 - Calculamos distribucion de dataset unido"
      ],
      "metadata": {
        "id": "8da8AhuWiJU6"
      }
    },
    {
      "cell_type": "code",
      "source": [
        "# Cambiar los valores de 'dx'\n",
        "df_Unido['dx'] = df_Unido['dx'].replace({'SEK': 'SEK-BKL', 'BKL': 'SEK-BKL'})\n",
        "\n",
        "# Mostrar el DataFrame resultante\n",
        "print(df_Unido)"
      ],
      "metadata": {
        "colab": {
          "base_uri": "https://localhost:8080/"
        },
        "id": "ZBnN92TiiclF",
        "outputId": "c1cbbc17-99e3-41d6-aa87-66978622a95f"
      },
      "execution_count": 8,
      "outputs": [
        {
          "output_type": "stream",
          "name": "stdout",
          "text": [
            "        lesion_id              image_id       dx   age     sex localization  \\\n",
            "0     HAM_0000118      ISIC_0027419.jpg  SEK-BKL  80.0    male        scalp   \n",
            "1     HAM_0000118      ISIC_0025030.jpg  SEK-BKL  80.0    male        scalp   \n",
            "2     HAM_0002730      ISIC_0026769.jpg  SEK-BKL  80.0    male        scalp   \n",
            "3     HAM_0002730      ISIC_0025661.jpg  SEK-BKL  80.0    male        scalp   \n",
            "4     HAM_0001466      ISIC_0031633.jpg  SEK-BKL  75.0    male          ear   \n",
            "...           ...                   ...      ...   ...     ...          ...   \n",
            "6015          203   PAT_136_203_436.png      BCC  60.0  FEMALE         NOSE   \n",
            "6016         1429  PAT_754_1429_380.png      MEL  75.0    MALE      FOREARM   \n",
            "6017          421   PAT_273_421_905.png      BCC  41.0    MALE         FACE   \n",
            "6018          880    PAT_46_880_140.png      BCC  55.0  FEMALE        CHEST   \n",
            "6019          690   PAT_326_690_823.png      BCC  58.0  FEMALE         FACE   \n",
            "\n",
            "       Clasificacion   Dataset  \n",
            "0     Lesión Benigna  Original  \n",
            "1     Lesión Benigna  Original  \n",
            "2     Lesión Benigna  Original  \n",
            "3     Lesión Benigna  Original  \n",
            "4     Lesión Benigna  Original  \n",
            "...              ...       ...  \n",
            "6015  Lesión Maligna     Extra  \n",
            "6016  Lesión Maligna     Extra  \n",
            "6017  Lesión Maligna     Extra  \n",
            "6018  Lesión Maligna     Extra  \n",
            "6019  Lesión Maligna     Extra  \n",
            "\n",
            "[6020 rows x 8 columns]\n"
          ]
        }
      ]
    },
    {
      "cell_type": "markdown",
      "source": [
        "### Ver distribución de imagenes x tipo"
      ],
      "metadata": {
        "id": "3Prui2zsfufE"
      }
    },
    {
      "cell_type": "code",
      "source": [
        "#Distribución de imagenes según tipo de lesión (considerando 4 etiquetas)\n",
        "\n",
        "# Agrupar por tipo de lesion  y contar las lesiones\n",
        "lesiones_por_etiqueta = df_Unido.groupby('dx').size().reset_index(name='cantidad_de_lesiones')\n",
        "\n",
        "# Mostrar la tabla resultante\n",
        "print(lesiones_por_etiqueta)"
      ],
      "metadata": {
        "colab": {
          "base_uri": "https://localhost:8080/"
        },
        "id": "PvqkN1okfyrE",
        "outputId": "f8eb943c-fda0-4a01-a5da-a9941a8bb72b"
      },
      "execution_count": 9,
      "outputs": [
        {
          "output_type": "stream",
          "name": "stdout",
          "text": [
            "        dx  cantidad_de_lesiones\n",
            "0      BCC                  1354\n",
            "1      MEL                  1153\n",
            "2       NV                  2391\n",
            "3  SEK-BKL                  1122\n"
          ]
        }
      ]
    },
    {
      "cell_type": "code",
      "source": [
        "#Graficar las lesiones por tipo\n",
        "# Crear un gráfico de barras con seaborn\n",
        "plt.figure(figsize=(10, 6))  # Establece el tamaño del gráfico\n",
        "sns.barplot(x='dx', y='cantidad_de_lesiones', data=lesiones_por_etiqueta, palette='Blues_d')\n",
        "\n",
        "# Añadir títulos y etiquetas\n",
        "plt.title('Cantidad de Lesiones por etiqueta de lesión (4 etiquetas)', fontsize=16)\n",
        "plt.xlabel('Categoría de Lesión', fontsize=12)\n",
        "plt.ylabel('Cantidad de Lesiones', fontsize=12)\n",
        "\n",
        "# Rotar las etiquetas del eje x si es necesario\n",
        "plt.xticks(rotation=45, ha='right')\n",
        "\n",
        "# Mostrar el gráfico\n",
        "plt.tight_layout()\n",
        "plt.show()"
      ],
      "metadata": {
        "colab": {
          "base_uri": "https://localhost:8080/",
          "height": 863
        },
        "id": "rIlu23m9i58Z",
        "outputId": "d1fd4eef-de7f-4768-f1e1-b436c2b702be"
      },
      "execution_count": 10,
      "outputs": [
        {
          "output_type": "stream",
          "name": "stderr",
          "text": [
            "<ipython-input-10-458d80d8335c>:4: FutureWarning: \n",
            "\n",
            "Passing `palette` without assigning `hue` is deprecated and will be removed in v0.14.0. Assign the `x` variable to `hue` and set `legend=False` for the same effect.\n",
            "\n",
            "  sns.barplot(x='dx', y='cantidad_de_lesiones', data=lesiones_por_etiqueta, palette='Blues_d')\n",
            "/usr/local/lib/python3.10/dist-packages/seaborn/_base.py:949: FutureWarning: When grouping with a length-1 list-like, you will need to pass a length-1 tuple to get_group in a future version of pandas. Pass `(name,)` instead of `name` to silence this warning.\n",
            "  data_subset = grouped_data.get_group(pd_key)\n",
            "/usr/local/lib/python3.10/dist-packages/seaborn/_base.py:949: FutureWarning: When grouping with a length-1 list-like, you will need to pass a length-1 tuple to get_group in a future version of pandas. Pass `(name,)` instead of `name` to silence this warning.\n",
            "  data_subset = grouped_data.get_group(pd_key)\n",
            "/usr/local/lib/python3.10/dist-packages/seaborn/_base.py:949: FutureWarning: When grouping with a length-1 list-like, you will need to pass a length-1 tuple to get_group in a future version of pandas. Pass `(name,)` instead of `name` to silence this warning.\n",
            "  data_subset = grouped_data.get_group(pd_key)\n",
            "/usr/local/lib/python3.10/dist-packages/seaborn/_base.py:949: FutureWarning: When grouping with a length-1 list-like, you will need to pass a length-1 tuple to get_group in a future version of pandas. Pass `(name,)` instead of `name` to silence this warning.\n",
            "  data_subset = grouped_data.get_group(pd_key)\n"
          ]
        },
        {
          "output_type": "display_data",
          "data": {
            "text/plain": [
              "<Figure size 1000x600 with 1 Axes>"
            ],
            "image/png": "[encoded data removed]"
          },
          "metadata": {}
        }
      ]
    },
    {
      "cell_type": "code",
      "source": [
        "#Distribución de imagenes según tipo de lesión (considerando maligno/benigno)\n",
        "\n",
        "# Agrupar por tipo de lesion  y contar las lesiones\n",
        "lesiones_por_tipo = df_Unido.groupby('Clasificacion').size().reset_index(name='cantidad_de_lesiones')\n",
        "\n",
        "# Mostrar la tabla resultante\n",
        "print(lesiones_por_tipo)"
      ],
      "metadata": {
        "colab": {
          "base_uri": "https://localhost:8080/"
        },
        "id": "DSflf6eMjR4T",
        "outputId": "c8ee706e-9c53-41c8-ef8f-257f267153bd"
      },
      "execution_count": 11,
      "outputs": [
        {
          "output_type": "stream",
          "name": "stdout",
          "text": [
            "    Clasificacion  cantidad_de_lesiones\n",
            "0  Lesión Benigna                  3513\n",
            "1  Lesión Maligna                  2507\n"
          ]
        }
      ]
    },
    {
      "cell_type": "code",
      "source": [
        "#Graficar las lesiones por tipo\n",
        "# Crear un gráfico de barras con seaborn\n",
        "plt.figure(figsize=(10, 6))  # Establece el tamaño del gráfico\n",
        "sns.barplot(x='Clasificacion', y='cantidad_de_lesiones', data=lesiones_por_tipo, palette='Blues_d')\n",
        "\n",
        "# Añadir títulos y etiquetas\n",
        "plt.title('Cantidad de Lesiones por etiqueta de lesión (maligna/benigna)', fontsize=16)\n",
        "plt.xlabel('Categoría de Lesión', fontsize=12)\n",
        "plt.ylabel('Cantidad de Lesiones', fontsize=12)\n",
        "\n",
        "# Rotar las etiquetas del eje x si es necesario\n",
        "plt.xticks(rotation=45, ha='right')\n",
        "\n",
        "# Mostrar el gráfico\n",
        "plt.tight_layout()\n",
        "plt.show()"
      ],
      "metadata": {
        "colab": {
          "base_uri": "https://localhost:8080/",
          "height": 790
        },
        "id": "RqEHn7kSjpnK",
        "outputId": "ff1462b2-1095-439e-bb17-280b93094656"
      },
      "execution_count": null,
      "outputs": [
        {
          "output_type": "stream",
          "name": "stderr",
          "text": [
            "<ipython-input-11-aa12c6238dad>:4: FutureWarning: \n",
            "\n",
            "Passing `palette` without assigning `hue` is deprecated and will be removed in v0.14.0. Assign the `x` variable to `hue` and set `legend=False` for the same effect.\n",
            "\n",
            "  sns.barplot(x='Clasificacion', y='cantidad_de_lesiones', data=lesiones_por_tipo, palette='Blues_d')\n",
            "/usr/local/lib/python3.10/dist-packages/seaborn/_base.py:949: FutureWarning: When grouping with a length-1 list-like, you will need to pass a length-1 tuple to get_group in a future version of pandas. Pass `(name,)` instead of `name` to silence this warning.\n",
            "  data_subset = grouped_data.get_group(pd_key)\n",
            "/usr/local/lib/python3.10/dist-packages/seaborn/_base.py:949: FutureWarning: When grouping with a length-1 list-like, you will need to pass a length-1 tuple to get_group in a future version of pandas. Pass `(name,)` instead of `name` to silence this warning.\n",
            "  data_subset = grouped_data.get_group(pd_key)\n"
          ]
        },
        {
          "output_type": "display_data",
          "data": {
            "text/plain": [
              "<Figure size 1000x600 with 1 Axes>"
            ],
            "image/png": "[encoded data removed]"
          },
          "metadata": {}
        }
      ]
    },
    {
      "cell_type": "code",
      "source": [
        "### guardar en disco el archivo de metadatos unidos"
      ],
      "metadata": {
        "id": "COz9oHMmmArO"
      },
      "execution_count": null,
      "outputs": []
    },
    {
      "cell_type": "code",
      "source": [
        "df_Unido.to_csv('union_HAM10000_PAD-UFES-20.csv', index=False)\n",
        "df_Unido.shape"
      ],
      "metadata": {
        "colab": {
          "base_uri": "https://localhost:8080/"
        },
        "id": "hy2Ukxm5mEtG",
        "outputId": "7aba4844-935d-4504-fe12-0618293ac696"
      },
      "execution_count": 13,
      "outputs": [
        {
          "output_type": "execute_result",
          "data": {
            "text/plain": [
              "(6020, 8)"
            ]
          },
          "metadata": {},
          "execution_count": 13
        }
      ]
    },
    {
      "cell_type": "markdown",
      "source": [],
      "metadata": {
        "id": "Lyk0EMOKjsBb"
      }
    }
  ]
}